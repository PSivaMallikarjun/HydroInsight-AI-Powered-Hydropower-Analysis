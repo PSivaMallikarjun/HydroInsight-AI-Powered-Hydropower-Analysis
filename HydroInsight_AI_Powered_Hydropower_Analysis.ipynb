{
  "nbformat": 4,
  "nbformat_minor": 0,
  "metadata": {
    "colab": {
      "provenance": [],
      "authorship_tag": "ABX9TyMs57Xs1/QQ3VqbrUANmC81",
      "include_colab_link": true
    },
    "kernelspec": {
      "name": "python3",
      "display_name": "Python 3"
    },
    "language_info": {
      "name": "python"
    }
  },
  "cells": [
    {
      "cell_type": "markdown",
      "metadata": {
        "id": "view-in-github",
        "colab_type": "text"
      },
      "source": [
        "<a href=\"https://colab.research.google.com/github/PSivaMallikarjun/HydroInsight-AI-Powered-Hydropower-Analysis/blob/main/HydroInsight_AI_Powered_Hydropower_Analysis.ipynb\" target=\"_parent\"><img src=\"https://colab.research.google.com/assets/colab-badge.svg\" alt=\"Open In Colab\"/></a>"
      ]
    },
    {
      "cell_type": "markdown",
      "source": [
        "# HydroInsight: AI-Powered Hydropower Analysis\n",
        "A web application that serves as a Software Development Kit (SDK) for Fluid Dynamics Analysis and Hydropower System Optimization using Google Colab and Gradio."
      ],
      "metadata": {
        "id": "q3lwVcLO5gcG"
      }
    },
    {
      "cell_type": "markdown",
      "source": [],
      "metadata": {
        "id": "FNRb9Enh6b2O"
      }
    },
    {
      "cell_type": "code",
      "source": [
        "!pip install gradio"
      ],
      "metadata": {
        "colab": {
          "base_uri": "https://localhost:8080/"
        },
        "id": "ngnxTxcnz4P3",
        "outputId": "c1783b23-4532-4086-bc8c-eb44b53c43dd"
      },
      "execution_count": 2,
      "outputs": [
        {
          "output_type": "stream",
          "name": "stdout",
          "text": [
            "Collecting gradio\n",
            "  Downloading gradio-5.20.0-py3-none-any.whl.metadata (16 kB)\n",
            "Collecting aiofiles<24.0,>=22.0 (from gradio)\n",
            "  Downloading aiofiles-23.2.1-py3-none-any.whl.metadata (9.7 kB)\n",
            "Requirement already satisfied: anyio<5.0,>=3.0 in /usr/local/lib/python3.11/dist-packages (from gradio) (3.7.1)\n",
            "Collecting fastapi<1.0,>=0.115.2 (from gradio)\n",
            "  Downloading fastapi-0.115.11-py3-none-any.whl.metadata (27 kB)\n",
            "Collecting ffmpy (from gradio)\n",
            "  Downloading ffmpy-0.5.0-py3-none-any.whl.metadata (3.0 kB)\n",
            "Collecting gradio-client==1.7.2 (from gradio)\n",
            "  Downloading gradio_client-1.7.2-py3-none-any.whl.metadata (7.1 kB)\n",
            "Collecting groovy~=0.1 (from gradio)\n",
            "  Downloading groovy-0.1.2-py3-none-any.whl.metadata (6.1 kB)\n",
            "Requirement already satisfied: httpx>=0.24.1 in /usr/local/lib/python3.11/dist-packages (from gradio) (0.28.1)\n",
            "Requirement already satisfied: huggingface-hub>=0.28.1 in /usr/local/lib/python3.11/dist-packages (from gradio) (0.28.1)\n",
            "Requirement already satisfied: jinja2<4.0 in /usr/local/lib/python3.11/dist-packages (from gradio) (3.1.5)\n",
            "Collecting markupsafe~=2.0 (from gradio)\n",
            "  Downloading MarkupSafe-2.1.5-cp311-cp311-manylinux_2_17_x86_64.manylinux2014_x86_64.whl.metadata (3.0 kB)\n",
            "Requirement already satisfied: numpy<3.0,>=1.0 in /usr/local/lib/python3.11/dist-packages (from gradio) (1.26.4)\n",
            "Requirement already satisfied: orjson~=3.0 in /usr/local/lib/python3.11/dist-packages (from gradio) (3.10.15)\n",
            "Requirement already satisfied: packaging in /usr/local/lib/python3.11/dist-packages (from gradio) (24.2)\n",
            "Requirement already satisfied: pandas<3.0,>=1.0 in /usr/local/lib/python3.11/dist-packages (from gradio) (2.2.2)\n",
            "Requirement already satisfied: pillow<12.0,>=8.0 in /usr/local/lib/python3.11/dist-packages (from gradio) (11.1.0)\n",
            "Requirement already satisfied: pydantic>=2.0 in /usr/local/lib/python3.11/dist-packages (from gradio) (2.10.6)\n",
            "Collecting pydub (from gradio)\n",
            "  Downloading pydub-0.25.1-py2.py3-none-any.whl.metadata (1.4 kB)\n",
            "Collecting python-multipart>=0.0.18 (from gradio)\n",
            "  Downloading python_multipart-0.0.20-py3-none-any.whl.metadata (1.8 kB)\n",
            "Requirement already satisfied: pyyaml<7.0,>=5.0 in /usr/local/lib/python3.11/dist-packages (from gradio) (6.0.2)\n",
            "Collecting ruff>=0.9.3 (from gradio)\n",
            "  Downloading ruff-0.9.9-py3-none-manylinux_2_17_x86_64.manylinux2014_x86_64.whl.metadata (25 kB)\n",
            "Collecting safehttpx<0.2.0,>=0.1.6 (from gradio)\n",
            "  Downloading safehttpx-0.1.6-py3-none-any.whl.metadata (4.2 kB)\n",
            "Collecting semantic-version~=2.0 (from gradio)\n",
            "  Downloading semantic_version-2.10.0-py2.py3-none-any.whl.metadata (9.7 kB)\n",
            "Collecting starlette<1.0,>=0.40.0 (from gradio)\n",
            "  Downloading starlette-0.46.0-py3-none-any.whl.metadata (6.2 kB)\n",
            "Collecting tomlkit<0.14.0,>=0.12.0 (from gradio)\n",
            "  Downloading tomlkit-0.13.2-py3-none-any.whl.metadata (2.7 kB)\n",
            "Requirement already satisfied: typer<1.0,>=0.12 in /usr/local/lib/python3.11/dist-packages (from gradio) (0.15.1)\n",
            "Requirement already satisfied: typing-extensions~=4.0 in /usr/local/lib/python3.11/dist-packages (from gradio) (4.12.2)\n",
            "Collecting uvicorn>=0.14.0 (from gradio)\n",
            "  Downloading uvicorn-0.34.0-py3-none-any.whl.metadata (6.5 kB)\n",
            "Requirement already satisfied: fsspec in /usr/local/lib/python3.11/dist-packages (from gradio-client==1.7.2->gradio) (2024.10.0)\n",
            "Requirement already satisfied: websockets<16.0,>=10.0 in /usr/local/lib/python3.11/dist-packages (from gradio-client==1.7.2->gradio) (14.2)\n",
            "Requirement already satisfied: idna>=2.8 in /usr/local/lib/python3.11/dist-packages (from anyio<5.0,>=3.0->gradio) (3.10)\n",
            "Requirement already satisfied: sniffio>=1.1 in /usr/local/lib/python3.11/dist-packages (from anyio<5.0,>=3.0->gradio) (1.3.1)\n",
            "Requirement already satisfied: certifi in /usr/local/lib/python3.11/dist-packages (from httpx>=0.24.1->gradio) (2025.1.31)\n",
            "Requirement already satisfied: httpcore==1.* in /usr/local/lib/python3.11/dist-packages (from httpx>=0.24.1->gradio) (1.0.7)\n",
            "Requirement already satisfied: h11<0.15,>=0.13 in /usr/local/lib/python3.11/dist-packages (from httpcore==1.*->httpx>=0.24.1->gradio) (0.14.0)\n",
            "Requirement already satisfied: filelock in /usr/local/lib/python3.11/dist-packages (from huggingface-hub>=0.28.1->gradio) (3.17.0)\n",
            "Requirement already satisfied: requests in /usr/local/lib/python3.11/dist-packages (from huggingface-hub>=0.28.1->gradio) (2.32.3)\n",
            "Requirement already satisfied: tqdm>=4.42.1 in /usr/local/lib/python3.11/dist-packages (from huggingface-hub>=0.28.1->gradio) (4.67.1)\n",
            "Requirement already satisfied: python-dateutil>=2.8.2 in /usr/local/lib/python3.11/dist-packages (from pandas<3.0,>=1.0->gradio) (2.8.2)\n",
            "Requirement already satisfied: pytz>=2020.1 in /usr/local/lib/python3.11/dist-packages (from pandas<3.0,>=1.0->gradio) (2025.1)\n",
            "Requirement already satisfied: tzdata>=2022.7 in /usr/local/lib/python3.11/dist-packages (from pandas<3.0,>=1.0->gradio) (2025.1)\n",
            "Requirement already satisfied: annotated-types>=0.6.0 in /usr/local/lib/python3.11/dist-packages (from pydantic>=2.0->gradio) (0.7.0)\n",
            "Requirement already satisfied: pydantic-core==2.27.2 in /usr/local/lib/python3.11/dist-packages (from pydantic>=2.0->gradio) (2.27.2)\n",
            "Requirement already satisfied: click>=8.0.0 in /usr/local/lib/python3.11/dist-packages (from typer<1.0,>=0.12->gradio) (8.1.8)\n",
            "Requirement already satisfied: shellingham>=1.3.0 in /usr/local/lib/python3.11/dist-packages (from typer<1.0,>=0.12->gradio) (1.5.4)\n",
            "Requirement already satisfied: rich>=10.11.0 in /usr/local/lib/python3.11/dist-packages (from typer<1.0,>=0.12->gradio) (13.9.4)\n",
            "Requirement already satisfied: six>=1.5 in /usr/local/lib/python3.11/dist-packages (from python-dateutil>=2.8.2->pandas<3.0,>=1.0->gradio) (1.17.0)\n",
            "Requirement already satisfied: markdown-it-py>=2.2.0 in /usr/local/lib/python3.11/dist-packages (from rich>=10.11.0->typer<1.0,>=0.12->gradio) (3.0.0)\n",
            "Requirement already satisfied: pygments<3.0.0,>=2.13.0 in /usr/local/lib/python3.11/dist-packages (from rich>=10.11.0->typer<1.0,>=0.12->gradio) (2.18.0)\n",
            "Requirement already satisfied: charset-normalizer<4,>=2 in /usr/local/lib/python3.11/dist-packages (from requests->huggingface-hub>=0.28.1->gradio) (3.4.1)\n",
            "Requirement already satisfied: urllib3<3,>=1.21.1 in /usr/local/lib/python3.11/dist-packages (from requests->huggingface-hub>=0.28.1->gradio) (2.3.0)\n",
            "Requirement already satisfied: mdurl~=0.1 in /usr/local/lib/python3.11/dist-packages (from markdown-it-py>=2.2.0->rich>=10.11.0->typer<1.0,>=0.12->gradio) (0.1.2)\n",
            "Downloading gradio-5.20.0-py3-none-any.whl (62.3 MB)\n",
            "\u001b[2K   \u001b[90m━━━━━━━━━━━━━━━━━━━━━━━━━━━━━━━━━━━━━━━━\u001b[0m \u001b[32m62.3/62.3 MB\u001b[0m \u001b[31m10.8 MB/s\u001b[0m eta \u001b[36m0:00:00\u001b[0m\n",
            "\u001b[?25hDownloading gradio_client-1.7.2-py3-none-any.whl (322 kB)\n",
            "\u001b[2K   \u001b[90m━━━━━━━━━━━━━━━━━━━━━━━━━━━━━━━━━━━━━━━━\u001b[0m \u001b[32m322.1/322.1 kB\u001b[0m \u001b[31m18.1 MB/s\u001b[0m eta \u001b[36m0:00:00\u001b[0m\n",
            "\u001b[?25hDownloading aiofiles-23.2.1-py3-none-any.whl (15 kB)\n",
            "Downloading fastapi-0.115.11-py3-none-any.whl (94 kB)\n",
            "\u001b[2K   \u001b[90m━━━━━━━━━━━━━━━━━━━━━━━━━━━━━━━━━━━━━━━━\u001b[0m \u001b[32m94.9/94.9 kB\u001b[0m \u001b[31m6.3 MB/s\u001b[0m eta \u001b[36m0:00:00\u001b[0m\n",
            "\u001b[?25hDownloading groovy-0.1.2-py3-none-any.whl (14 kB)\n",
            "Downloading MarkupSafe-2.1.5-cp311-cp311-manylinux_2_17_x86_64.manylinux2014_x86_64.whl (28 kB)\n",
            "Downloading python_multipart-0.0.20-py3-none-any.whl (24 kB)\n",
            "Downloading ruff-0.9.9-py3-none-manylinux_2_17_x86_64.manylinux2014_x86_64.whl (11.2 MB)\n",
            "\u001b[2K   \u001b[90m━━━━━━━━━━━━━━━━━━━━━━━━━━━━━━━━━━━━━━━━\u001b[0m \u001b[32m11.2/11.2 MB\u001b[0m \u001b[31m57.4 MB/s\u001b[0m eta \u001b[36m0:00:00\u001b[0m\n",
            "\u001b[?25hDownloading safehttpx-0.1.6-py3-none-any.whl (8.7 kB)\n",
            "Downloading semantic_version-2.10.0-py2.py3-none-any.whl (15 kB)\n",
            "Downloading starlette-0.46.0-py3-none-any.whl (71 kB)\n",
            "\u001b[2K   \u001b[90m━━━━━━━━━━━━━━━━━━━━━━━━━━━━━━━━━━━━━━━━\u001b[0m \u001b[32m72.0/72.0 kB\u001b[0m \u001b[31m4.9 MB/s\u001b[0m eta \u001b[36m0:00:00\u001b[0m\n",
            "\u001b[?25hDownloading tomlkit-0.13.2-py3-none-any.whl (37 kB)\n",
            "Downloading uvicorn-0.34.0-py3-none-any.whl (62 kB)\n",
            "\u001b[2K   \u001b[90m━━━━━━━━━━━━━━━━━━━━━━━━━━━━━━━━━━━━━━━━\u001b[0m \u001b[32m62.3/62.3 kB\u001b[0m \u001b[31m4.5 MB/s\u001b[0m eta \u001b[36m0:00:00\u001b[0m\n",
            "\u001b[?25hDownloading ffmpy-0.5.0-py3-none-any.whl (6.0 kB)\n",
            "Downloading pydub-0.25.1-py2.py3-none-any.whl (32 kB)\n",
            "Installing collected packages: pydub, uvicorn, tomlkit, semantic-version, ruff, python-multipart, markupsafe, groovy, ffmpy, aiofiles, starlette, safehttpx, gradio-client, fastapi, gradio\n",
            "  Attempting uninstall: markupsafe\n",
            "    Found existing installation: MarkupSafe 3.0.2\n",
            "    Uninstalling MarkupSafe-3.0.2:\n",
            "      Successfully uninstalled MarkupSafe-3.0.2\n",
            "Successfully installed aiofiles-23.2.1 fastapi-0.115.11 ffmpy-0.5.0 gradio-5.20.0 gradio-client-1.7.2 groovy-0.1.2 markupsafe-2.1.5 pydub-0.25.1 python-multipart-0.0.20 ruff-0.9.9 safehttpx-0.1.6 semantic-version-2.10.0 starlette-0.46.0 tomlkit-0.13.2 uvicorn-0.34.0\n"
          ]
        }
      ]
    },
    {
      "cell_type": "code",
      "execution_count": 5,
      "metadata": {
        "colab": {
          "base_uri": "https://localhost:8080/",
          "height": 646
        },
        "id": "DcyooERPzvJb",
        "outputId": "7daf4c41-d4c7-4066-f4ad-dd96de43ef7b"
      },
      "outputs": [
        {
          "output_type": "stream",
          "name": "stdout",
          "text": [
            "Running Gradio in a Colab notebook requires sharing enabled. Automatically setting `share=True` (you can turn this off by setting `share=False` in `launch()` explicitly).\n",
            "\n",
            "Colab notebook detected. To show errors in colab notebook, set debug=True in launch()\n",
            "* Running on public URL: https://4ad242dbdb5077e6b6.gradio.live\n",
            "\n",
            "This share link expires in 72 hours. For free permanent hosting and GPU upgrades, run `gradio deploy` from the terminal in the working directory to deploy to Hugging Face Spaces (https://huggingface.co/spaces)\n"
          ]
        },
        {
          "output_type": "display_data",
          "data": {
            "text/plain": [
              "<IPython.core.display.HTML object>"
            ],
            "text/html": [
              "<div><iframe src=\"https://4ad242dbdb5077e6b6.gradio.live\" width=\"100%\" height=\"500\" allow=\"autoplay; camera; microphone; clipboard-read; clipboard-write;\" frameborder=\"0\" allowfullscreen></iframe></div>"
            ]
          },
          "metadata": {}
        },
        {
          "output_type": "execute_result",
          "data": {
            "text/plain": []
          },
          "metadata": {},
          "execution_count": 5
        }
      ],
      "source": [
        "import gradio as gr\n",
        "import numpy as np\n",
        "import matplotlib.pyplot as plt\n",
        "from scipy.integrate import solve_ivp\n",
        "\n",
        "# Function: Fluid Dynamics Analysis\n",
        "def fluid_dynamics_analysis(flow_rate, pressure_drop):\n",
        "    velocity = flow_rate / (np.pi * (1.5 ** 2))  # Example velocity calculation\n",
        "    turbulence = (pressure_drop / flow_rate) * 100\n",
        "    return max(velocity, 0), max(turbulence, 0)\n",
        "\n",
        "# Function: Structural Integrity Assessment\n",
        "def structural_integrity(material_strength, stress_factor):\n",
        "    life_expectancy = material_strength / (stress_factor + 1)\n",
        "    return max(life_expectancy, 0)\n",
        "\n",
        "# Function: Control System Optimization\n",
        "def control_system_optimization(grid_demand, response_time):\n",
        "    optimized_flow = grid_demand / (response_time + 1)\n",
        "    return max(optimized_flow, 0)\n",
        "\n",
        "# Function: Predictive Maintenance\n",
        "def predictive_maintenance(sensor_data):\n",
        "    failure_risk = np.exp(-0.05 * sensor_data) * 100  # Exponential decay model\n",
        "    return max(failure_risk, 0)\n",
        "\n",
        "# Function: Environmental Impact Analysis\n",
        "def environmental_impact(water_quality, habitat_change):\n",
        "    impact_score = (100 - water_quality) + habitat_change * 5\n",
        "    return max(impact_score, 0)\n",
        "\n",
        "# Function: Material Science Application\n",
        "def material_science_application(durability, wear_rate):\n",
        "    enhanced_lifetime = durability / (wear_rate + 1)\n",
        "    return max(enhanced_lifetime, 0)\n",
        "\n",
        "# Function: System Reliability & Risk Assessment\n",
        "def system_reliability(risk_factor):\n",
        "    reliability = 100 - (risk_factor * 5)\n",
        "    return max(reliability, 0)\n",
        "\n",
        "# Function: Main Analysis - Calls all functions and returns outputs\n",
        "def main_analysis(flow_rate, pressure_drop, material_strength, stress_factor, grid_demand,\n",
        "                  response_time, sensor_data, water_quality, habitat_change, durability,\n",
        "                  wear_rate, risk_factor):\n",
        "\n",
        "    velocity, turbulence = fluid_dynamics_analysis(flow_rate, pressure_drop)\n",
        "    structure_life = structural_integrity(material_strength, stress_factor)\n",
        "    optimized_flow = control_system_optimization(grid_demand, response_time)\n",
        "    maintenance_risk = predictive_maintenance(sensor_data)\n",
        "    env_impact = environmental_impact(water_quality, habitat_change)\n",
        "    material_lifetime = material_science_application(durability, wear_rate)\n",
        "    reliability = system_reliability(risk_factor)\n",
        "\n",
        "    return velocity, turbulence, structure_life, optimized_flow, maintenance_risk, env_impact, material_lifetime, reliability\n",
        "\n",
        "# Define Gradio Interface\n",
        "demo = gr.Interface(\n",
        "    fn=main_analysis,\n",
        "    inputs=[\n",
        "        gr.Number(label=\"Flow Rate (m³/s)\", value=10),\n",
        "        gr.Number(label=\"Pressure Drop (Pa)\", value=500),\n",
        "        gr.Number(label=\"Material Strength (MPa)\", value=250),\n",
        "        gr.Number(label=\"Stress Factor\", value=5),\n",
        "        gr.Number(label=\"Grid Demand (MW)\", value=100),\n",
        "        gr.Number(label=\"Response Time (s)\", value=10),\n",
        "        gr.Number(label=\"Sensor Data (Health %)\", value=80),\n",
        "        gr.Number(label=\"Water Quality (%)\", value=90),\n",
        "        gr.Number(label=\"Habitat Change Impact\", value=2),\n",
        "        gr.Number(label=\"Material Durability (Years)\", value=20),\n",
        "        gr.Number(label=\"Wear Rate\", value=1),\n",
        "        gr.Number(label=\"Risk Factor\", value=2),\n",
        "    ],\n",
        "    outputs=[\n",
        "        gr.Number(label=\"Water Flow Velocity (m/s)\"),\n",
        "        gr.Number(label=\"Turbulence Factor\"),\n",
        "        gr.Number(label=\"Structural Life Expectancy (Years)\"),\n",
        "        gr.Number(label=\"Optimized Flow Rate (m³/s)\"),\n",
        "        gr.Number(label=\"Maintenance Risk (%)\"),\n",
        "        gr.Number(label=\"Environmental Impact Score\"),\n",
        "        gr.Number(label=\"Material Enhanced Lifetime (Years)\"),\n",
        "        gr.Number(label=\"System Reliability (%)\"),\n",
        "    ],\n",
        "    title=\"Hydropower System Analysis\",\n",
        "    description=\"Analyze fluid dynamics, structure integrity, control systems, maintenance, environmental impact, and risk assessment for hydropower plants.\",\n",
        ")\n",
        "\n",
        "# Run Gradio App\n",
        "demo.launch()\n"
      ]
    },
    {
      "cell_type": "code",
      "source": [
        "!pip install fpdf"
      ],
      "metadata": {
        "colab": {
          "base_uri": "https://localhost:8080/"
        },
        "id": "fMXvJzJ62LLz",
        "outputId": "e1247478-3480-4731-8a31-aaa507faf6fe"
      },
      "execution_count": 7,
      "outputs": [
        {
          "output_type": "stream",
          "name": "stdout",
          "text": [
            "Collecting fpdf\n",
            "  Downloading fpdf-1.7.2.tar.gz (39 kB)\n",
            "  Preparing metadata (setup.py) ... \u001b[?25l\u001b[?25hdone\n",
            "Building wheels for collected packages: fpdf\n",
            "  Building wheel for fpdf (setup.py) ... \u001b[?25l\u001b[?25hdone\n",
            "  Created wheel for fpdf: filename=fpdf-1.7.2-py2.py3-none-any.whl size=40704 sha256=e67a7626720f72afc0be375b404f4f78f2e3c28b0471bb44ec645fc41084160f\n",
            "  Stored in directory: /root/.cache/pip/wheels/65/4f/66/bbda9866da446a72e206d6484cd97381cbc7859a7068541c36\n",
            "Successfully built fpdf\n",
            "Installing collected packages: fpdf\n",
            "Successfully installed fpdf-1.7.2\n"
          ]
        }
      ]
    },
    {
      "cell_type": "code",
      "source": [
        "import gradio as gr\n",
        "import numpy as np\n",
        "import zipfile\n",
        "import os\n",
        "from fpdf import FPDF\n",
        "from concurrent.futures import ThreadPoolExecutor\n",
        "\n",
        "def fluid_dynamics_analysis(flow_rate, pressure_drop):\n",
        "    velocity = flow_rate / (np.pi * (1.5 ** 2))\n",
        "    turbulence = (pressure_drop / flow_rate) * 100\n",
        "    return max(velocity, 0), max(turbulence, 0)\n",
        "\n",
        "def structural_integrity(material_strength, stress_factor):\n",
        "    life_expectancy = material_strength / (stress_factor + 1)\n",
        "    return max(life_expectancy, 0)\n",
        "\n",
        "def control_system_optimization(grid_demand, response_time):\n",
        "    optimized_flow = grid_demand / (response_time + 1)\n",
        "    return max(optimized_flow, 0)\n",
        "\n",
        "def predictive_maintenance(sensor_data):\n",
        "    failure_risk = np.exp(-0.05 * sensor_data) * 100\n",
        "    return max(failure_risk, 0)\n",
        "\n",
        "def environmental_impact(water_quality, habitat_change):\n",
        "    impact_score = (100 - water_quality) + habitat_change * 5\n",
        "    return max(impact_score, 0)\n",
        "\n",
        "def material_science_application(durability, wear_rate):\n",
        "    enhanced_lifetime = durability / (wear_rate + 1)\n",
        "    return max(enhanced_lifetime, 0)\n",
        "\n",
        "def system_reliability(risk_factor):\n",
        "    reliability = 100 - (risk_factor * 5)\n",
        "    return max(reliability, 0)\n",
        "\n",
        "def generate_report(data):\n",
        "    pdf = FPDF()\n",
        "    pdf.add_page()\n",
        "    pdf.set_font(\"Arial\", size=12)\n",
        "    pdf.cell(200, 10, \"Hydropower System Analysis Report\", ln=True, align='C')\n",
        "    pdf.ln(10)\n",
        "\n",
        "    for key, value in data.items():\n",
        "        pdf.cell(200, 10, f\"{key}: {value}\", ln=True)\n",
        "\n",
        "    report_path = \"report.pdf\"\n",
        "    pdf.output(report_path)\n",
        "\n",
        "    zip_path = \"Hydropower_Report.zip\"\n",
        "    with zipfile.ZipFile(zip_path, 'w') as zipf:\n",
        "        zipf.write(report_path)\n",
        "    os.remove(report_path)\n",
        "    return zip_path\n",
        "\n",
        "def main_analysis(flow_rate, pressure_drop, material_strength, stress_factor, grid_demand,\n",
        "                  response_time, sensor_data, water_quality, habitat_change, durability,\n",
        "                  wear_rate, risk_factor):\n",
        "\n",
        "    velocity, turbulence = fluid_dynamics_analysis(flow_rate, pressure_drop)\n",
        "    structure_life = structural_integrity(material_strength, stress_factor)\n",
        "    optimized_flow = control_system_optimization(grid_demand, response_time)\n",
        "    maintenance_risk = predictive_maintenance(sensor_data)\n",
        "    env_impact = environmental_impact(water_quality, habitat_change)\n",
        "    material_lifetime = material_science_application(durability, wear_rate)\n",
        "    reliability = system_reliability(risk_factor)\n",
        "\n",
        "    results = {\n",
        "        \"Water Flow Velocity (m/s)\": velocity,\n",
        "        \"Turbulence Factor\": turbulence,\n",
        "        \"Structural Life Expectancy (Years)\": structure_life,\n",
        "        \"Optimized Flow Rate (m³/s)\": optimized_flow,\n",
        "        \"Maintenance Risk (%)\": maintenance_risk,\n",
        "        \"Environmental Impact Score\": env_impact,\n",
        "        \"Material Enhanced Lifetime (Years)\": material_lifetime,\n",
        "        \"System Reliability (%)\": reliability\n",
        "    }\n",
        "\n",
        "    with ThreadPoolExecutor() as executor:\n",
        "        future = executor.submit(generate_report, results)\n",
        "        zip_file = future.result()\n",
        "\n",
        "    return velocity, turbulence, structure_life, optimized_flow, maintenance_risk, env_impact, material_lifetime, reliability, zip_file\n",
        "\n",
        "demo = gr.Interface(\n",
        "    fn=main_analysis,\n",
        "    inputs=[\n",
        "        gr.Number(label=\"Flow Rate (m³/s)\", value=10),\n",
        "        gr.Number(label=\"Pressure Drop (Pa)\", value=500),\n",
        "        gr.Number(label=\"Material Strength (MPa)\", value=250),\n",
        "        gr.Number(label=\"Stress Factor\", value=5),\n",
        "        gr.Number(label=\"Grid Demand (MW)\", value=100),\n",
        "        gr.Number(label=\"Response Time (s)\", value=10),\n",
        "        gr.Number(label=\"Sensor Data (Health %)\", value=80),\n",
        "        gr.Number(label=\"Water Quality (%)\", value=90),\n",
        "        gr.Number(label=\"Habitat Change Impact\", value=2),\n",
        "        gr.Number(label=\"Material Durability (Years)\", value=20),\n",
        "        gr.Number(label=\"Wear Rate\", value=1),\n",
        "        gr.Number(label=\"Risk Factor\", value=2),\n",
        "    ],\n",
        "    outputs=[\n",
        "        gr.Number(label=\"Water Flow Velocity (m/s)\"),\n",
        "        gr.Number(label=\"Turbulence Factor\"),\n",
        "        gr.Number(label=\"Structural Life Expectancy (Years)\"),\n",
        "        gr.Number(label=\"Optimized Flow Rate (m³/s)\"),\n",
        "        gr.Number(label=\"Maintenance Risk (%)\"),\n",
        "        gr.Number(label=\"Environmental Impact Score\"),\n",
        "        gr.Number(label=\"Material Enhanced Lifetime (Years)\"),\n",
        "        gr.Number(label=\"System Reliability (%)\"),\n",
        "        gr.File(label=\"Download Report\"),\n",
        "    ],\n",
        "    title=\"Hydropower System Analysis\",\n",
        "    description=\"Analyze hydropower efficiency & download a report with preventive actions.\",\n",
        ")\n",
        "\n",
        "demo.launch()\n"
      ],
      "metadata": {
        "colab": {
          "base_uri": "https://localhost:8080/",
          "height": 646
        },
        "id": "nln0UBzn19km",
        "outputId": "c2fc5d38-a805-41de-d71f-7386868e5338"
      },
      "execution_count": 11,
      "outputs": [
        {
          "output_type": "stream",
          "name": "stdout",
          "text": [
            "Running Gradio in a Colab notebook requires sharing enabled. Automatically setting `share=True` (you can turn this off by setting `share=False` in `launch()` explicitly).\n",
            "\n",
            "Colab notebook detected. To show errors in colab notebook, set debug=True in launch()\n",
            "* Running on public URL: https://a90b44cc8c7d41042b.gradio.live\n",
            "\n",
            "This share link expires in 72 hours. For free permanent hosting and GPU upgrades, run `gradio deploy` from the terminal in the working directory to deploy to Hugging Face Spaces (https://huggingface.co/spaces)\n"
          ]
        },
        {
          "output_type": "display_data",
          "data": {
            "text/plain": [
              "<IPython.core.display.HTML object>"
            ],
            "text/html": [
              "<div><iframe src=\"https://a90b44cc8c7d41042b.gradio.live\" width=\"100%\" height=\"500\" allow=\"autoplay; camera; microphone; clipboard-read; clipboard-write;\" frameborder=\"0\" allowfullscreen></iframe></div>"
            ]
          },
          "metadata": {}
        },
        {
          "output_type": "execute_result",
          "data": {
            "text/plain": []
          },
          "metadata": {},
          "execution_count": 11
        }
      ]
    }
  ]
}